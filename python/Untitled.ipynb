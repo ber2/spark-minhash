{
 "cells": [
  {
   "cell_type": "code",
   "execution_count": 1,
   "id": "597de13b-2822-4c5b-936d-451b96b78a98",
   "metadata": {},
   "outputs": [],
   "source": [
    "import pandas as pd"
   ]
  },
  {
   "cell_type": "code",
   "execution_count": 6,
   "id": "9250b46c-f030-40b1-8546-508ac77755e0",
   "metadata": {},
   "outputs": [],
   "source": [
    "df = pd.read_parquet(\"sample.parquet\")"
   ]
  },
  {
   "cell_type": "code",
   "execution_count": 7,
   "id": "3fb5959b-08b0-4731-9d6c-2cf8047cfac2",
   "metadata": {},
   "outputs": [
    {
     "data": {
      "text/html": [
       "<div>\n",
       "<style scoped>\n",
       "    .dataframe tbody tr th:only-of-type {\n",
       "        vertical-align: middle;\n",
       "    }\n",
       "\n",
       "    .dataframe tbody tr th {\n",
       "        vertical-align: top;\n",
       "    }\n",
       "\n",
       "    .dataframe thead th {\n",
       "        text-align: right;\n",
       "    }\n",
       "</style>\n",
       "<table border=\"1\" class=\"dataframe\">\n",
       "  <thead>\n",
       "    <tr style=\"text-align: right;\">\n",
       "      <th></th>\n",
       "      <th>key</th>\n",
       "      <th>sketch</th>\n",
       "      <th>uniques</th>\n",
       "    </tr>\n",
       "  </thead>\n",
       "  <tbody>\n",
       "    <tr>\n",
       "      <th>0</th>\n",
       "      <td>key_10</td>\n",
       "      <td>b'?\\xec\\x10\\x01\\x94\\x80=\\x1b\\x00\\x00\"j\\x00\\x00...</td>\n",
       "      <td>10046.138362</td>\n",
       "    </tr>\n",
       "    <tr>\n",
       "      <th>1</th>\n",
       "      <td>key_6</td>\n",
       "      <td>b'?\\xedc\\x07\\x84\\xf1\\x1bD\\x00\\x00\"\\xe5\\x00\\x00...</td>\n",
       "      <td>9727.349500</td>\n",
       "    </tr>\n",
       "    <tr>\n",
       "      <th>2</th>\n",
       "      <td>key_9</td>\n",
       "      <td>b'?\\xeccw\\xe9\\x14o*\\x00\\x00\"\\x92\\x00\\x00\\x00\\x...</td>\n",
       "      <td>9975.853489</td>\n",
       "    </tr>\n",
       "    <tr>\n",
       "      <th>3</th>\n",
       "      <td>key_1</td>\n",
       "      <td>b'?\\xecf\\x04\\xf4\\xe9q\\xe9\\x00\\x00\"\\x83\\x00\\x00...</td>\n",
       "      <td>9955.450790</td>\n",
       "    </tr>\n",
       "    <tr>\n",
       "      <th>4</th>\n",
       "      <td>key_7</td>\n",
       "      <td>b'?\\xed\\x0b\\x0b2A\\xad{\\x00\\x00\"\\xe1\\x00\\x00\\x0...</td>\n",
       "      <td>9838.054839</td>\n",
       "    </tr>\n",
       "    <tr>\n",
       "      <th>5</th>\n",
       "      <td>key_5</td>\n",
       "      <td>b'?\\xed\\xb9D\\xe6\\x1f\\xe8\\xc1\\x00\\x00\"\\xfd\\x00\\...</td>\n",
       "      <td>9642.942401</td>\n",
       "    </tr>\n",
       "    <tr>\n",
       "      <th>6</th>\n",
       "      <td>key_0</td>\n",
       "      <td>b'?\\xec\\x11\\x8a~\\x904\\x95\\x00\\x00\"r\\x00\\x00\\x0...</td>\n",
       "      <td>10053.113059</td>\n",
       "    </tr>\n",
       "    <tr>\n",
       "      <th>7</th>\n",
       "      <td>key_2</td>\n",
       "      <td>b'?\\xec\\xba\\x97\\xd4\\xf5\\x02\\xc3\\x00\\x00\"\\x95\\x...</td>\n",
       "      <td>9861.018153</td>\n",
       "    </tr>\n",
       "    <tr>\n",
       "      <th>8</th>\n",
       "      <td>key_8</td>\n",
       "      <td>b'?\\xec\\xb7\\x90Q[w\\x18\\x00\\x00\"\\xd6\\x00\\x00\\x0...</td>\n",
       "      <td>9937.512422</td>\n",
       "    </tr>\n",
       "    <tr>\n",
       "      <th>9</th>\n",
       "      <td>key_3</td>\n",
       "      <td>b'?\\xed\\x0b\\x0b2A\\xad{\\x00\\x00\"\\xe7\\x00\\x00\\x0...</td>\n",
       "      <td>9844.665694</td>\n",
       "    </tr>\n",
       "    <tr>\n",
       "      <th>10</th>\n",
       "      <td>key_4</td>\n",
       "      <td>b'?\\xedbW5-\\x16\\xcd\\x00\\x00\"\\xdf\\x00\\x00\\x00\\x...</td>\n",
       "      <td>9721.705963</td>\n",
       "    </tr>\n",
       "  </tbody>\n",
       "</table>\n",
       "</div>"
      ],
      "text/plain": [
       "       key                                             sketch       uniques\n",
       "0   key_10  b'?\\xec\\x10\\x01\\x94\\x80=\\x1b\\x00\\x00\"j\\x00\\x00...  10046.138362\n",
       "1    key_6  b'?\\xedc\\x07\\x84\\xf1\\x1bD\\x00\\x00\"\\xe5\\x00\\x00...   9727.349500\n",
       "2    key_9  b'?\\xeccw\\xe9\\x14o*\\x00\\x00\"\\x92\\x00\\x00\\x00\\x...   9975.853489\n",
       "3    key_1  b'?\\xecf\\x04\\xf4\\xe9q\\xe9\\x00\\x00\"\\x83\\x00\\x00...   9955.450790\n",
       "4    key_7  b'?\\xed\\x0b\\x0b2A\\xad{\\x00\\x00\"\\xe1\\x00\\x00\\x0...   9838.054839\n",
       "5    key_5  b'?\\xed\\xb9D\\xe6\\x1f\\xe8\\xc1\\x00\\x00\"\\xfd\\x00\\...   9642.942401\n",
       "6    key_0  b'?\\xec\\x11\\x8a~\\x904\\x95\\x00\\x00\"r\\x00\\x00\\x0...  10053.113059\n",
       "7    key_2  b'?\\xec\\xba\\x97\\xd4\\xf5\\x02\\xc3\\x00\\x00\"\\x95\\x...   9861.018153\n",
       "8    key_8  b'?\\xec\\xb7\\x90Q[w\\x18\\x00\\x00\"\\xd6\\x00\\x00\\x0...   9937.512422\n",
       "9    key_3  b'?\\xed\\x0b\\x0b2A\\xad{\\x00\\x00\"\\xe7\\x00\\x00\\x0...   9844.665694\n",
       "10   key_4  b'?\\xedbW5-\\x16\\xcd\\x00\\x00\"\\xdf\\x00\\x00\\x00\\x...   9721.705963"
      ]
     },
     "execution_count": 7,
     "metadata": {},
     "output_type": "execute_result"
    }
   ],
   "source": [
    "df"
   ]
  },
  {
   "cell_type": "code",
   "execution_count": 8,
   "id": "7f320842",
   "metadata": {},
   "outputs": [],
   "source": [
    "counts = {}\n",
    "for _, row in df.iterrows():\n",
    "    key = row.key\n",
    "    sketch = row.sketch\n",
    "    uniques = row.uniques\n",
    "    with open(f\"tests/theta/resources/{key}.bin\", \"wb\") as fp:\n",
    "        fp.write(sketch)\n",
    "    counts[key] = uniques"
   ]
  },
  {
   "cell_type": "code",
   "execution_count": 9,
   "id": "c8684ce4",
   "metadata": {},
   "outputs": [
    {
     "data": {
      "text/plain": [
       "{'key_10': 10046.138362093685,\n",
       " 'key_6': 9727.349499608525,\n",
       " 'key_9': 9975.8534894143,\n",
       " 'key_1': 9955.450789817754,\n",
       " 'key_7': 9838.054838833625,\n",
       " 'key_5': 9642.942401494389,\n",
       " 'key_0': 10053.11305903162,\n",
       " 'key_2': 9861.01815298071,\n",
       " 'key_8': 9937.512421806423,\n",
       " 'key_3': 9844.665694364256,\n",
       " 'key_4': 9721.705962611619}"
      ]
     },
     "execution_count": 9,
     "metadata": {},
     "output_type": "execute_result"
    }
   ],
   "source": [
    "counts"
   ]
  },
  {
   "cell_type": "code",
   "execution_count": 10,
   "id": "a7d14907",
   "metadata": {},
   "outputs": [],
   "source": [
    "df_final = pd.read_parquet(\"sample_join.parquet\")"
   ]
  },
  {
   "cell_type": "code",
   "execution_count": 11,
   "id": "09b287ef",
   "metadata": {},
   "outputs": [
    {
     "data": {
      "text/html": [
       "<div>\n",
       "<style scoped>\n",
       "    .dataframe tbody tr th:only-of-type {\n",
       "        vertical-align: middle;\n",
       "    }\n",
       "\n",
       "    .dataframe tbody tr th {\n",
       "        vertical-align: top;\n",
       "    }\n",
       "\n",
       "    .dataframe thead th {\n",
       "        text-align: right;\n",
       "    }\n",
       "</style>\n",
       "<table border=\"1\" class=\"dataframe\">\n",
       "  <thead>\n",
       "    <tr style=\"text-align: right;\">\n",
       "      <th></th>\n",
       "      <th>sketch</th>\n",
       "      <th>uniques</th>\n",
       "    </tr>\n",
       "  </thead>\n",
       "  <tbody>\n",
       "    <tr>\n",
       "      <th>0</th>\n",
       "      <td>b'?\\xec\\x10\\x01\\x94\\x80=\\x1b\\x00\\x00\\xcc\\x9f\\x...</td>\n",
       "      <td>59732.901909</td>\n",
       "    </tr>\n",
       "  </tbody>\n",
       "</table>\n",
       "</div>"
      ],
      "text/plain": [
       "                                              sketch       uniques\n",
       "0  b'?\\xec\\x10\\x01\\x94\\x80=\\x1b\\x00\\x00\\xcc\\x9f\\x...  59732.901909"
      ]
     },
     "execution_count": 11,
     "metadata": {},
     "output_type": "execute_result"
    }
   ],
   "source": [
    "df_final"
   ]
  },
  {
   "cell_type": "code",
   "execution_count": 12,
   "id": "a1eaa328",
   "metadata": {},
   "outputs": [],
   "source": [
    "joint = df_final.iloc[0].sketch"
   ]
  },
  {
   "cell_type": "code",
   "execution_count": 13,
   "id": "b58abde6",
   "metadata": {},
   "outputs": [
    {
     "data": {
      "text/plain": [
       "bytes"
      ]
     },
     "execution_count": 13,
     "metadata": {},
     "output_type": "execute_result"
    }
   ],
   "source": [
    "type(joint)"
   ]
  },
  {
   "cell_type": "code",
   "execution_count": 14,
   "id": "f21f658c",
   "metadata": {},
   "outputs": [],
   "source": [
    "with open(\"tests/theta/resources/joint.bin\", \"wb\") as fp:\n",
    "    fp.write(joint)"
   ]
  },
  {
   "cell_type": "code",
   "execution_count": null,
   "id": "e73c607e",
   "metadata": {},
   "outputs": [],
   "source": []
  }
 ],
 "metadata": {
  "kernelspec": {
   "display_name": "Python 3 (ipykernel)",
   "language": "python",
   "name": "python3"
  },
  "language_info": {
   "codemirror_mode": {
    "name": "ipython",
    "version": 3
   },
   "file_extension": ".py",
   "mimetype": "text/x-python",
   "name": "python",
   "nbconvert_exporter": "python",
   "pygments_lexer": "ipython3",
   "version": "3.11.5"
  }
 },
 "nbformat": 4,
 "nbformat_minor": 5
}
